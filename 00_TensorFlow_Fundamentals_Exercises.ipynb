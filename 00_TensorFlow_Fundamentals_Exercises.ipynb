{
  "nbformat": 4,
  "nbformat_minor": 0,
  "metadata": {
    "colab": {
      "provenance": [],
      "authorship_tag": "ABX9TyPhstUAo8mPsNZMshYA+I1l",
      "include_colab_link": true
    },
    "kernelspec": {
      "name": "python3",
      "display_name": "Python 3"
    },
    "language_info": {
      "name": "python"
    }
  },
  "cells": [
    {
      "cell_type": "markdown",
      "metadata": {
        "id": "view-in-github",
        "colab_type": "text"
      },
      "source": [
        "<a href=\"https://colab.research.google.com/github/dmaresza/tensorflow_course/blob/main/00_TensorFlow_Fundamentals_Exercises.ipynb\" target=\"_parent\"><img src=\"https://colab.research.google.com/assets/colab-badge.svg\" alt=\"Open In Colab\"/></a>"
      ]
    },
    {
      "cell_type": "markdown",
      "source": [
        "# Exercises"
      ],
      "metadata": {
        "id": "Cpv2DW_mAlKq"
      }
    },
    {
      "cell_type": "code",
      "source": [
        "import tensorflow as tf\n",
        "import numpy as np"
      ],
      "metadata": {
        "id": "EjOYMe3ZDCBs"
      },
      "execution_count": null,
      "outputs": []
    },
    {
      "cell_type": "markdown",
      "source": [
        "## 1. Create a scalar, vector, matrix, and tensor with values of your choosing using `tf.constant()`."
      ],
      "metadata": {
        "id": "WnqP72qdAuFy"
      }
    },
    {
      "cell_type": "code",
      "source": [
        "scalar = tf.constant(np.random.randint(0, 100, size=1))\n",
        "vector = tf.constant(np.random.randint(0, 100, size=3))\n",
        "matrix = tf.constant(np.random.randint(0, 100, size=12), shape=(4, 3))\n",
        "tensor = tf.constant(np.random.randint(0, 100, size=120), shape=(2, 3, 4, 5))\n",
        "\n",
        "scalar, vector, matrix, tensor"
      ],
      "metadata": {
        "colab": {
          "base_uri": "https://localhost:8080/"
        },
        "id": "5DLzo_qJAz0S",
        "outputId": "b721a775-ea30-4aea-8cbf-345163f36f44"
      },
      "execution_count": null,
      "outputs": [
        {
          "output_type": "execute_result",
          "data": {
            "text/plain": [
              "(<tf.Tensor: shape=(1,), dtype=int64, numpy=array([96])>,\n",
              " <tf.Tensor: shape=(3,), dtype=int64, numpy=array([75,  5, 78])>,\n",
              " <tf.Tensor: shape=(4, 3), dtype=int64, numpy=\n",
              " array([[96, 51, 38],\n",
              "        [15,  2, 15],\n",
              "        [49, 59, 19],\n",
              "        [37, 22, 93]])>,\n",
              " <tf.Tensor: shape=(2, 3, 4, 5), dtype=int64, numpy=\n",
              " array([[[[45, 20, 52, 24, 67],\n",
              "          [ 9,  6, 96, 92, 27],\n",
              "          [52, 17, 64, 96, 55],\n",
              "          [62, 12, 29, 93, 47]],\n",
              " \n",
              "         [[49, 42, 33, 26, 48],\n",
              "          [39, 62, 36,  2, 85],\n",
              "          [29, 67,  9, 30,  2],\n",
              "          [37, 16, 27, 46, 87]],\n",
              " \n",
              "         [[99, 21, 78,  7, 26],\n",
              "          [23,  5, 43, 54,  5],\n",
              "          [31,  6, 35, 10, 60],\n",
              "          [61, 61, 20, 95, 56]]],\n",
              " \n",
              " \n",
              "        [[[41, 75, 61, 12, 15],\n",
              "          [23, 53, 89, 92, 46],\n",
              "          [91, 57,  6, 58, 86],\n",
              "          [50,  8, 24, 37, 44]],\n",
              " \n",
              "         [[92, 29,  4, 49, 64],\n",
              "          [29, 46, 35, 19, 88],\n",
              "          [63, 82,  7, 46, 54],\n",
              "          [57, 39, 50,  9,  6]],\n",
              " \n",
              "         [[24, 24, 59, 78, 41],\n",
              "          [99, 81,  0, 22, 87],\n",
              "          [77, 41,  5, 55, 90],\n",
              "          [77, 84, 18, 69, 59]]]])>)"
            ]
          },
          "metadata": {},
          "execution_count": 4
        }
      ]
    },
    {
      "cell_type": "markdown",
      "source": [
        "## 2. Find the shape, rank, and size of the tensors you created in 1."
      ],
      "metadata": {
        "id": "c-RDy8LhA0Os"
      }
    },
    {
      "cell_type": "code",
      "source": [
        "print(f\"Scalar: {scalar}\\nScalar shape: {scalar.shape}\\nScalar rank: {scalar.ndim}\\nScalar size: {tf.size(scalar)}\\n\")\n",
        "print(f\"Vector: {vector}\\nVector shape: {vector.shape}\\nVector rank: {vector.ndim}\\nVector size: {tf.size(vector)}\\n\")\n",
        "print(f\"Matrix: {matrix}\\nMatrix shape: {matrix.shape}\\nMatrix rank: {matrix.ndim}\\nMatrix size: {tf.size(matrix)}\\n\")\n",
        "print(f\"Tensor: {tensor}\\nTensor shape: {tensor.shape}\\nTensor rank: {tensor.ndim}\\nTensor size: {tf.size(tensor)}\\n\")"
      ],
      "metadata": {
        "colab": {
          "base_uri": "https://localhost:8080/"
        },
        "id": "lxWEfSSXA66y",
        "outputId": "29e209bf-927a-49f3-d5d5-2f12027073f0"
      },
      "execution_count": null,
      "outputs": [
        {
          "output_type": "stream",
          "name": "stdout",
          "text": [
            "Scalar: [96]\n",
            "Scalar shape: (1,)\n",
            "Scalar rank: 1\n",
            "Scalar size: 1\n",
            "\n",
            "Vector: [75  5 78]\n",
            "Vector shape: (3,)\n",
            "Vector rank: 1\n",
            "Vector size: 3\n",
            "\n",
            "Matrix: [[96 51 38]\n",
            " [15  2 15]\n",
            " [49 59 19]\n",
            " [37 22 93]]\n",
            "Matrix shape: (4, 3)\n",
            "Matrix rank: 2\n",
            "Matrix size: 12\n",
            "\n",
            "Tensor: [[[[45 20 52 24 67]\n",
            "   [ 9  6 96 92 27]\n",
            "   [52 17 64 96 55]\n",
            "   [62 12 29 93 47]]\n",
            "\n",
            "  [[49 42 33 26 48]\n",
            "   [39 62 36  2 85]\n",
            "   [29 67  9 30  2]\n",
            "   [37 16 27 46 87]]\n",
            "\n",
            "  [[99 21 78  7 26]\n",
            "   [23  5 43 54  5]\n",
            "   [31  6 35 10 60]\n",
            "   [61 61 20 95 56]]]\n",
            "\n",
            "\n",
            " [[[41 75 61 12 15]\n",
            "   [23 53 89 92 46]\n",
            "   [91 57  6 58 86]\n",
            "   [50  8 24 37 44]]\n",
            "\n",
            "  [[92 29  4 49 64]\n",
            "   [29 46 35 19 88]\n",
            "   [63 82  7 46 54]\n",
            "   [57 39 50  9  6]]\n",
            "\n",
            "  [[24 24 59 78 41]\n",
            "   [99 81  0 22 87]\n",
            "   [77 41  5 55 90]\n",
            "   [77 84 18 69 59]]]]\n",
            "Tensor shape: (2, 3, 4, 5)\n",
            "Tensor rank: 4\n",
            "Tensor size: 120\n",
            "\n"
          ]
        }
      ]
    },
    {
      "cell_type": "markdown",
      "source": [
        "## 3. Create two tensors containing random values between 0 and 1 with shape `[5, 300]`."
      ],
      "metadata": {
        "id": "DOW2_HCgA7SG"
      }
    },
    {
      "cell_type": "code",
      "source": [
        "rand_tensor_1 = tf.constant(tf.random.uniform(shape=[5, 300]))\n",
        "rand_tensor_2 = tf.constant(tf.random.uniform(shape=[5, 300]))\n",
        "\n",
        "rand_tensor_1, rand_tensor_2"
      ],
      "metadata": {
        "colab": {
          "base_uri": "https://localhost:8080/"
        },
        "id": "xdCN_jppBAQO",
        "outputId": "b41a7e28-2d46-48d8-8287-55df5a1ccbaa"
      },
      "execution_count": null,
      "outputs": [
        {
          "output_type": "execute_result",
          "data": {
            "text/plain": [
              "(<tf.Tensor: shape=(5, 300), dtype=float32, numpy=\n",
              " array([[0.672454  , 0.77798486, 0.03375995, ..., 0.9338347 , 0.8705685 ,\n",
              "         0.22951639],\n",
              "        [0.3509519 , 0.64387655, 0.3880489 , ..., 0.015257  , 0.68726885,\n",
              "         0.95157695],\n",
              "        [0.5710547 , 0.73071456, 0.95567286, ..., 0.6335155 , 0.8449166 ,\n",
              "         0.5725082 ],\n",
              "        [0.9214455 , 0.4082582 , 0.8738706 , ..., 0.75351715, 0.87150145,\n",
              "         0.3310882 ],\n",
              "        [0.81754565, 0.09353554, 0.8405558 , ..., 0.22690332, 0.21470273,\n",
              "         0.213593  ]], dtype=float32)>,\n",
              " <tf.Tensor: shape=(5, 300), dtype=float32, numpy=\n",
              " array([[0.5856304 , 0.99483716, 0.46784043, ..., 0.7430197 , 0.9285357 ,\n",
              "         0.8146846 ],\n",
              "        [0.56168365, 0.7193047 , 0.18536437, ..., 0.35834217, 0.22342336,\n",
              "         0.8487145 ],\n",
              "        [0.11736929, 0.8434621 , 0.44691133, ..., 0.879455  , 0.13062525,\n",
              "         0.7660978 ],\n",
              "        [0.03889441, 0.7256719 , 0.35510492, ..., 0.8384137 , 0.7923595 ,\n",
              "         0.9803941 ],\n",
              "        [0.17135453, 0.3578267 , 0.3636452 , ..., 0.15692961, 0.48430765,\n",
              "         0.50498116]], dtype=float32)>)"
            ]
          },
          "metadata": {},
          "execution_count": 7
        }
      ]
    },
    {
      "cell_type": "markdown",
      "source": [
        "## 4. Multiply the two tensors you created in 3 using matrix multiplication."
      ],
      "metadata": {
        "id": "zuNvdiRXBAmr"
      }
    },
    {
      "cell_type": "code",
      "source": [
        "# Transposing rand_tensor_1\n",
        "tf.matmul(tf.transpose(rand_tensor_1), rand_tensor_2)"
      ],
      "metadata": {
        "colab": {
          "base_uri": "https://localhost:8080/"
        },
        "id": "mD-2H1grF1lG",
        "outputId": "44e2f3b4-0151-4086-8fa6-4bf7c7dd701c"
      },
      "execution_count": null,
      "outputs": [
        {
          "output_type": "execute_result",
          "data": {
            "text/plain": [
              "<tf.Tensor: shape=(300, 300), dtype=float32, numpy=\n",
              "array([[0.83388704, 2.3642933 , 1.2593724 , ..., 2.028474  , 1.9034622 ,\n",
              "        2.5994046 ],\n",
              "       [0.9349367 , 2.1831727 , 0.9888774 , ..., 1.8083845 , 1.3304808 ,\n",
              "        2.187566  ],\n",
              "       [0.52791995, 2.0537016 , 1.1308056 , ..., 1.869183  , 1.3423887 ,\n",
              "        2.3701878 ],\n",
              "       ...,\n",
              "       [0.6979953 , 2.1023324 , 1.0729289 , ..., 1.92384   , 1.6602082 ,\n",
              "        2.11239   ],\n",
              "       [1.0657132 , 2.7823353 , 1.2998352 , ..., 2.4005651 , 1.866798  ,\n",
              "        2.9026582 ],\n",
              "       [0.7855694 , 1.7123848 , 0.734869  , ..., 1.3261284 , 0.8662883 ,\n",
              "        1.8656552 ]], dtype=float32)>"
            ]
          },
          "metadata": {},
          "execution_count": 8
        }
      ]
    },
    {
      "cell_type": "code",
      "source": [
        "# Transposing rand_tensor_2\n",
        "tf.matmul(rand_tensor_1, tf.transpose(rand_tensor_2))"
      ],
      "metadata": {
        "colab": {
          "base_uri": "https://localhost:8080/"
        },
        "id": "oePzBxtJBEjp",
        "outputId": "bedecdc9-d425-4c8e-c694-e6d9d7c1a810"
      },
      "execution_count": null,
      "outputs": [
        {
          "output_type": "execute_result",
          "data": {
            "text/plain": [
              "<tf.Tensor: shape=(5, 5), dtype=float32, numpy=\n",
              "array([[78.51181 , 72.949524, 74.163795, 79.82292 , 76.28299 ],\n",
              "       [82.603714, 73.400116, 77.209755, 78.34099 , 78.89096 ],\n",
              "       [77.45411 , 71.920685, 70.62309 , 78.29396 , 75.31297 ],\n",
              "       [79.3897  , 71.791046, 73.83662 , 79.70024 , 74.43523 ],\n",
              "       [75.86035 , 71.11211 , 73.350555, 78.43787 , 75.31624 ]],\n",
              "      dtype=float32)>"
            ]
          },
          "metadata": {},
          "execution_count": 9
        }
      ]
    },
    {
      "cell_type": "markdown",
      "source": [
        "## 5. Multiply the two tensors you created in 3 using dot product."
      ],
      "metadata": {
        "id": "LRs-If9eBE7f"
      }
    },
    {
      "cell_type": "code",
      "source": [
        "# Transposing rand_tensor_1\n",
        "tf.tensordot(tf.transpose(rand_tensor_1), rand_tensor_2, axes=1)"
      ],
      "metadata": {
        "colab": {
          "base_uri": "https://localhost:8080/"
        },
        "id": "iDNQgKi5BH3P",
        "outputId": "e6673b9d-e6f9-4671-fd13-1f022198072a"
      },
      "execution_count": null,
      "outputs": [
        {
          "output_type": "execute_result",
          "data": {
            "text/plain": [
              "<tf.Tensor: shape=(300, 300), dtype=float32, numpy=\n",
              "array([[0.83388704, 2.3642933 , 1.2593724 , ..., 2.028474  , 1.9034622 ,\n",
              "        2.5994046 ],\n",
              "       [0.9349367 , 2.1831727 , 0.9888774 , ..., 1.8083845 , 1.3304808 ,\n",
              "        2.187566  ],\n",
              "       [0.52791995, 2.0537016 , 1.1308056 , ..., 1.869183  , 1.3423887 ,\n",
              "        2.3701878 ],\n",
              "       ...,\n",
              "       [0.6979953 , 2.1023324 , 1.0729289 , ..., 1.92384   , 1.6602082 ,\n",
              "        2.11239   ],\n",
              "       [1.0657132 , 2.7823353 , 1.2998352 , ..., 2.4005651 , 1.866798  ,\n",
              "        2.9026582 ],\n",
              "       [0.7855694 , 1.7123848 , 0.734869  , ..., 1.3261284 , 0.8662883 ,\n",
              "        1.8656552 ]], dtype=float32)>"
            ]
          },
          "metadata": {},
          "execution_count": 11
        }
      ]
    },
    {
      "cell_type": "code",
      "source": [
        "# Transposing rand_tensor_2\n",
        "tf.tensordot(rand_tensor_1, tf.transpose(rand_tensor_2), axes=1)"
      ],
      "metadata": {
        "colab": {
          "base_uri": "https://localhost:8080/"
        },
        "id": "Ar7IR62LGBkq",
        "outputId": "21a8e273-e3a3-4a56-dad8-8d3bd62c7889"
      },
      "execution_count": null,
      "outputs": [
        {
          "output_type": "execute_result",
          "data": {
            "text/plain": [
              "<tf.Tensor: shape=(5, 5), dtype=float32, numpy=\n",
              "array([[78.51181 , 72.949524, 74.163795, 79.82292 , 76.28299 ],\n",
              "       [82.603714, 73.400116, 77.209755, 78.34099 , 78.89096 ],\n",
              "       [77.45411 , 71.920685, 70.62309 , 78.29396 , 75.31297 ],\n",
              "       [79.3897  , 71.791046, 73.83662 , 79.70024 , 74.43523 ],\n",
              "       [75.86035 , 71.11211 , 73.350555, 78.43787 , 75.31624 ]],\n",
              "      dtype=float32)>"
            ]
          },
          "metadata": {},
          "execution_count": 12
        }
      ]
    },
    {
      "cell_type": "markdown",
      "source": [
        "## 6. Create a tensor with random values between 0 and 1 with shape `[224, 224, 3]`."
      ],
      "metadata": {
        "id": "mm-ed7JqBIMk"
      }
    },
    {
      "cell_type": "code",
      "source": [
        "rand_tensor_3 = tf.constant(tf.random.uniform(shape=[224, 224, 3]))\n",
        "rand_tensor_3"
      ],
      "metadata": {
        "colab": {
          "base_uri": "https://localhost:8080/"
        },
        "id": "qMexedtsBOqT",
        "outputId": "df7347f6-058f-4ef9-b66f-aeada1d3a973"
      },
      "execution_count": null,
      "outputs": [
        {
          "output_type": "execute_result",
          "data": {
            "text/plain": [
              "<tf.Tensor: shape=(224, 224, 3), dtype=float32, numpy=\n",
              "array([[[0.8202617 , 0.22106671, 0.81801796],\n",
              "        [0.84848654, 0.6710081 , 0.87413895],\n",
              "        [0.24310064, 0.5802394 , 0.18229508],\n",
              "        ...,\n",
              "        [0.95663023, 0.16247034, 0.04997659],\n",
              "        [0.3682282 , 0.27978957, 0.9815496 ],\n",
              "        [0.47326195, 0.82216835, 0.9920951 ]],\n",
              "\n",
              "       [[0.10723591, 0.24188769, 0.6917293 ],\n",
              "        [0.5992284 , 0.95643866, 0.43942833],\n",
              "        [0.91039264, 0.9359051 , 0.9482014 ],\n",
              "        ...,\n",
              "        [0.7475804 , 0.9248016 , 0.01162386],\n",
              "        [0.7813721 , 0.50152624, 0.5868045 ],\n",
              "        [0.75498307, 0.762112  , 0.65984285]],\n",
              "\n",
              "       [[0.32984543, 0.87434196, 0.2770182 ],\n",
              "        [0.20068657, 0.98429894, 0.30171156],\n",
              "        [0.28975666, 0.11703563, 0.8368559 ],\n",
              "        ...,\n",
              "        [0.56420374, 0.90473616, 0.9468242 ],\n",
              "        [0.5742885 , 0.28051972, 0.4850217 ],\n",
              "        [0.5888672 , 0.18018329, 0.11591721]],\n",
              "\n",
              "       ...,\n",
              "\n",
              "       [[0.9226384 , 0.3390962 , 0.9217565 ],\n",
              "        [0.78324926, 0.99649596, 0.9243854 ],\n",
              "        [0.8170601 , 0.61009145, 0.8253126 ],\n",
              "        ...,\n",
              "        [0.27013826, 0.67809284, 0.2243408 ],\n",
              "        [0.46805668, 0.7397516 , 0.3586365 ],\n",
              "        [0.18327892, 0.83653784, 0.79728866]],\n",
              "\n",
              "       [[0.9447168 , 0.29930794, 0.88030005],\n",
              "        [0.26702642, 0.20767438, 0.2133156 ],\n",
              "        [0.27590656, 0.4615295 , 0.7267039 ],\n",
              "        ...,\n",
              "        [0.3482567 , 0.01066816, 0.47218013],\n",
              "        [0.84220755, 0.9965081 , 0.5084542 ],\n",
              "        [0.9083898 , 0.8545687 , 0.04681623]],\n",
              "\n",
              "       [[0.66060174, 0.2732365 , 0.08142841],\n",
              "        [0.33198225, 0.52547944, 0.10264385],\n",
              "        [0.02590334, 0.91722906, 0.6607895 ],\n",
              "        ...,\n",
              "        [0.3102876 , 0.12262714, 0.78669155],\n",
              "        [0.01926458, 0.11099398, 0.2378583 ],\n",
              "        [0.83199656, 0.9940418 , 0.28882265]]], dtype=float32)>"
            ]
          },
          "metadata": {},
          "execution_count": 13
        }
      ]
    },
    {
      "cell_type": "markdown",
      "source": [
        "## 7. Find the min and max values of the tensor you crated in 6."
      ],
      "metadata": {
        "id": "FD3rTBtZBPEJ"
      }
    },
    {
      "cell_type": "code",
      "source": [
        "print(f\"Minimum value of rand_tensor_3: {tf.reduce_min(rand_tensor_3)}\")\n",
        "print(f\"Maximum value of rand_tensor_3: {tf.reduce_max(rand_tensor_3)}\")"
      ],
      "metadata": {
        "colab": {
          "base_uri": "https://localhost:8080/"
        },
        "id": "kMXefczTBS0B",
        "outputId": "afdf3d9b-ec1b-45d8-bd4f-d980299ba615"
      },
      "execution_count": null,
      "outputs": [
        {
          "output_type": "stream",
          "name": "stdout",
          "text": [
            "Minimum value of rand_tensor_3: 6.198883056640625e-06\n",
            "Maximum value of rand_tensor_3: 0.9999980926513672\n"
          ]
        }
      ]
    },
    {
      "cell_type": "markdown",
      "source": [
        "## 8. Created a tensor with random values of shape `[1, 224, 224, 3]` then squeeze it to change the shape to `[224, 224, 3]`."
      ],
      "metadata": {
        "id": "rWrJrT64BTLt"
      }
    },
    {
      "cell_type": "code",
      "source": [
        "rand_tensor_4 = tf.constant(tf.random.uniform(shape=[1, 224, 224, 3]))\n",
        "squeezed_tensor = tf.squeeze(rand_tensor_4)\n",
        "print(f\"Original tensor shape: {rand_tensor_4.shape}\")\n",
        "print(f\"Squeezed tensor shape: {squeezed_tensor.shape}\")"
      ],
      "metadata": {
        "colab": {
          "base_uri": "https://localhost:8080/"
        },
        "id": "eBjbSHSpBblo",
        "outputId": "b28015d9-6f04-4cee-8b21-59668eec42e0"
      },
      "execution_count": null,
      "outputs": [
        {
          "output_type": "stream",
          "name": "stdout",
          "text": [
            "Original tensor shape: (1, 224, 224, 3)\n",
            "Squeezed tensor shape: (224, 224, 3)\n"
          ]
        }
      ]
    },
    {
      "cell_type": "markdown",
      "source": [
        "## 9. Create a tensor with shape `[10]` using your own choice of values, then find the index which has the maximum value."
      ],
      "metadata": {
        "id": "mgV6POc4BcBI"
      }
    },
    {
      "cell_type": "code",
      "source": [
        "rand_tensor_5 = tf.constant(np.random.randint(0, 100, size=(10)))\n",
        "print(f\"Original tensor: {rand_tensor_5}\")\n",
        "print(f\"Index of max value of rand_tensor_5 (index values start at 0): {tf.argmax(rand_tensor_5)}\")"
      ],
      "metadata": {
        "colab": {
          "base_uri": "https://localhost:8080/"
        },
        "id": "sKK-rSUsBhPV",
        "outputId": "1a1a34c0-4cf8-44fc-9987-5025eece1aee"
      },
      "execution_count": null,
      "outputs": [
        {
          "output_type": "stream",
          "name": "stdout",
          "text": [
            "Original tensor: [ 6 53 74 32 39 36 44 94  8 28]\n",
            "Index of max value of rand_tensor_5 (index values start at 0): 7\n"
          ]
        }
      ]
    },
    {
      "cell_type": "markdown",
      "source": [
        "## 10. One-hot encode the tensor you created in 9."
      ],
      "metadata": {
        "id": "FQInjsoXBh6l"
      }
    },
    {
      "cell_type": "code",
      "source": [
        "tf.one_hot(rand_tensor_5, depth=100)"
      ],
      "metadata": {
        "colab": {
          "base_uri": "https://localhost:8080/"
        },
        "id": "jTI-FG_8Bkpp",
        "outputId": "ce789c7d-d003-405e-caac-a28c857deb60"
      },
      "execution_count": null,
      "outputs": [
        {
          "output_type": "execute_result",
          "data": {
            "text/plain": [
              "<tf.Tensor: shape=(10, 100), dtype=float32, numpy=\n",
              "array([[0., 0., 0., 0., 0., 0., 1., 0., 0., 0., 0., 0., 0., 0., 0., 0.,\n",
              "        0., 0., 0., 0., 0., 0., 0., 0., 0., 0., 0., 0., 0., 0., 0., 0.,\n",
              "        0., 0., 0., 0., 0., 0., 0., 0., 0., 0., 0., 0., 0., 0., 0., 0.,\n",
              "        0., 0., 0., 0., 0., 0., 0., 0., 0., 0., 0., 0., 0., 0., 0., 0.,\n",
              "        0., 0., 0., 0., 0., 0., 0., 0., 0., 0., 0., 0., 0., 0., 0., 0.,\n",
              "        0., 0., 0., 0., 0., 0., 0., 0., 0., 0., 0., 0., 0., 0., 0., 0.,\n",
              "        0., 0., 0., 0.],\n",
              "       [0., 0., 0., 0., 0., 0., 0., 0., 0., 0., 0., 0., 0., 0., 0., 0.,\n",
              "        0., 0., 0., 0., 0., 0., 0., 0., 0., 0., 0., 0., 0., 0., 0., 0.,\n",
              "        0., 0., 0., 0., 0., 0., 0., 0., 0., 0., 0., 0., 0., 0., 0., 0.,\n",
              "        0., 0., 0., 0., 0., 1., 0., 0., 0., 0., 0., 0., 0., 0., 0., 0.,\n",
              "        0., 0., 0., 0., 0., 0., 0., 0., 0., 0., 0., 0., 0., 0., 0., 0.,\n",
              "        0., 0., 0., 0., 0., 0., 0., 0., 0., 0., 0., 0., 0., 0., 0., 0.,\n",
              "        0., 0., 0., 0.],\n",
              "       [0., 0., 0., 0., 0., 0., 0., 0., 0., 0., 0., 0., 0., 0., 0., 0.,\n",
              "        0., 0., 0., 0., 0., 0., 0., 0., 0., 0., 0., 0., 0., 0., 0., 0.,\n",
              "        0., 0., 0., 0., 0., 0., 0., 0., 0., 0., 0., 0., 0., 0., 0., 0.,\n",
              "        0., 0., 0., 0., 0., 0., 0., 0., 0., 0., 0., 0., 0., 0., 0., 0.,\n",
              "        0., 0., 0., 0., 0., 0., 0., 0., 0., 0., 1., 0., 0., 0., 0., 0.,\n",
              "        0., 0., 0., 0., 0., 0., 0., 0., 0., 0., 0., 0., 0., 0., 0., 0.,\n",
              "        0., 0., 0., 0.],\n",
              "       [0., 0., 0., 0., 0., 0., 0., 0., 0., 0., 0., 0., 0., 0., 0., 0.,\n",
              "        0., 0., 0., 0., 0., 0., 0., 0., 0., 0., 0., 0., 0., 0., 0., 0.,\n",
              "        1., 0., 0., 0., 0., 0., 0., 0., 0., 0., 0., 0., 0., 0., 0., 0.,\n",
              "        0., 0., 0., 0., 0., 0., 0., 0., 0., 0., 0., 0., 0., 0., 0., 0.,\n",
              "        0., 0., 0., 0., 0., 0., 0., 0., 0., 0., 0., 0., 0., 0., 0., 0.,\n",
              "        0., 0., 0., 0., 0., 0., 0., 0., 0., 0., 0., 0., 0., 0., 0., 0.,\n",
              "        0., 0., 0., 0.],\n",
              "       [0., 0., 0., 0., 0., 0., 0., 0., 0., 0., 0., 0., 0., 0., 0., 0.,\n",
              "        0., 0., 0., 0., 0., 0., 0., 0., 0., 0., 0., 0., 0., 0., 0., 0.,\n",
              "        0., 0., 0., 0., 0., 0., 0., 1., 0., 0., 0., 0., 0., 0., 0., 0.,\n",
              "        0., 0., 0., 0., 0., 0., 0., 0., 0., 0., 0., 0., 0., 0., 0., 0.,\n",
              "        0., 0., 0., 0., 0., 0., 0., 0., 0., 0., 0., 0., 0., 0., 0., 0.,\n",
              "        0., 0., 0., 0., 0., 0., 0., 0., 0., 0., 0., 0., 0., 0., 0., 0.,\n",
              "        0., 0., 0., 0.],\n",
              "       [0., 0., 0., 0., 0., 0., 0., 0., 0., 0., 0., 0., 0., 0., 0., 0.,\n",
              "        0., 0., 0., 0., 0., 0., 0., 0., 0., 0., 0., 0., 0., 0., 0., 0.,\n",
              "        0., 0., 0., 0., 1., 0., 0., 0., 0., 0., 0., 0., 0., 0., 0., 0.,\n",
              "        0., 0., 0., 0., 0., 0., 0., 0., 0., 0., 0., 0., 0., 0., 0., 0.,\n",
              "        0., 0., 0., 0., 0., 0., 0., 0., 0., 0., 0., 0., 0., 0., 0., 0.,\n",
              "        0., 0., 0., 0., 0., 0., 0., 0., 0., 0., 0., 0., 0., 0., 0., 0.,\n",
              "        0., 0., 0., 0.],\n",
              "       [0., 0., 0., 0., 0., 0., 0., 0., 0., 0., 0., 0., 0., 0., 0., 0.,\n",
              "        0., 0., 0., 0., 0., 0., 0., 0., 0., 0., 0., 0., 0., 0., 0., 0.,\n",
              "        0., 0., 0., 0., 0., 0., 0., 0., 0., 0., 0., 0., 1., 0., 0., 0.,\n",
              "        0., 0., 0., 0., 0., 0., 0., 0., 0., 0., 0., 0., 0., 0., 0., 0.,\n",
              "        0., 0., 0., 0., 0., 0., 0., 0., 0., 0., 0., 0., 0., 0., 0., 0.,\n",
              "        0., 0., 0., 0., 0., 0., 0., 0., 0., 0., 0., 0., 0., 0., 0., 0.,\n",
              "        0., 0., 0., 0.],\n",
              "       [0., 0., 0., 0., 0., 0., 0., 0., 0., 0., 0., 0., 0., 0., 0., 0.,\n",
              "        0., 0., 0., 0., 0., 0., 0., 0., 0., 0., 0., 0., 0., 0., 0., 0.,\n",
              "        0., 0., 0., 0., 0., 0., 0., 0., 0., 0., 0., 0., 0., 0., 0., 0.,\n",
              "        0., 0., 0., 0., 0., 0., 0., 0., 0., 0., 0., 0., 0., 0., 0., 0.,\n",
              "        0., 0., 0., 0., 0., 0., 0., 0., 0., 0., 0., 0., 0., 0., 0., 0.,\n",
              "        0., 0., 0., 0., 0., 0., 0., 0., 0., 0., 0., 0., 0., 0., 1., 0.,\n",
              "        0., 0., 0., 0.],\n",
              "       [0., 0., 0., 0., 0., 0., 0., 0., 1., 0., 0., 0., 0., 0., 0., 0.,\n",
              "        0., 0., 0., 0., 0., 0., 0., 0., 0., 0., 0., 0., 0., 0., 0., 0.,\n",
              "        0., 0., 0., 0., 0., 0., 0., 0., 0., 0., 0., 0., 0., 0., 0., 0.,\n",
              "        0., 0., 0., 0., 0., 0., 0., 0., 0., 0., 0., 0., 0., 0., 0., 0.,\n",
              "        0., 0., 0., 0., 0., 0., 0., 0., 0., 0., 0., 0., 0., 0., 0., 0.,\n",
              "        0., 0., 0., 0., 0., 0., 0., 0., 0., 0., 0., 0., 0., 0., 0., 0.,\n",
              "        0., 0., 0., 0.],\n",
              "       [0., 0., 0., 0., 0., 0., 0., 0., 0., 0., 0., 0., 0., 0., 0., 0.,\n",
              "        0., 0., 0., 0., 0., 0., 0., 0., 0., 0., 0., 0., 1., 0., 0., 0.,\n",
              "        0., 0., 0., 0., 0., 0., 0., 0., 0., 0., 0., 0., 0., 0., 0., 0.,\n",
              "        0., 0., 0., 0., 0., 0., 0., 0., 0., 0., 0., 0., 0., 0., 0., 0.,\n",
              "        0., 0., 0., 0., 0., 0., 0., 0., 0., 0., 0., 0., 0., 0., 0., 0.,\n",
              "        0., 0., 0., 0., 0., 0., 0., 0., 0., 0., 0., 0., 0., 0., 0., 0.,\n",
              "        0., 0., 0., 0.]], dtype=float32)>"
            ]
          },
          "metadata": {},
          "execution_count": 32
        }
      ]
    }
  ]
}